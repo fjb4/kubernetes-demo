{
 "cells": [
  {
   "cell_type": "markdown",
   "metadata": {},
   "source": [
    "# Kubernetes Demo\n",
    "\n",
    "## Prerequisites\n",
    "\n",
    "* .NET Core SDK 3.1\n",
    "* Docker\n",
    "* Kubernetes\n",
    "\n",
    "## Web App Demo\n",
    "\n",
    "### No Container"
   ]
  },
  {
   "cell_type": "code",
   "execution_count": null,
   "metadata": {},
   "outputs": [],
   "source": [
    "dotnet run --project dotnet-app"
   ]
  },
  {
   "cell_type": "markdown",
   "metadata": {},
   "source": [
    "**URLs**\n",
    "\n",
    "http://localhost:5000\n",
    "\n",
    "http://localhost:5000/stop\n",
    "\n",
    "### Docker"
   ]
  },
  {
   "cell_type": "code",
   "execution_count": null,
   "metadata": {},
   "outputs": [],
   "source": [
    "rm -r dotnet-app/bin\n",
    "rm -r dotnet-app/obj"
   ]
  },
  {
   "cell_type": "code",
   "execution_count": null,
   "metadata": {},
   "outputs": [],
   "source": [
    "docker build --pull -t fjb4/dotnetapp ."
   ]
  },
  {
   "cell_type": "code",
   "execution_count": null,
   "metadata": {},
   "outputs": [],
   "source": [
    "docker run --rm -it -p 8000:80 fjb4/dotnetapp"
   ]
  },
  {
   "cell_type": "markdown",
   "metadata": {},
   "source": [
    "**URLs**\n",
    "\n",
    "http://localhost:8000\n",
    "\n",
    "http://localhost:8000/stop"
   ]
  },
  {
   "cell_type": "markdown",
   "metadata": {},
   "source": [
    "## Intro to Kubernetes\n",
    "\n",
    "### kubectl"
   ]
  },
  {
   "cell_type": "code",
   "execution_count": null,
   "metadata": {},
   "outputs": [],
   "source": [
    "kubectl config get-contexts"
   ]
  },
  {
   "cell_type": "code",
   "execution_count": null,
   "metadata": {},
   "outputs": [],
   "source": [
    "kubectl config set-context docker-desktop"
   ]
  },
  {
   "cell_type": "code",
   "execution_count": null,
   "metadata": {},
   "outputs": [],
   "source": [
    "kubectl cluster-info"
   ]
  },
  {
   "cell_type": "code",
   "execution_count": null,
   "metadata": {},
   "outputs": [],
   "source": [
    "kubectl get node -o wide"
   ]
  },
  {
   "cell_type": "code",
   "execution_count": null,
   "metadata": {},
   "outputs": [],
   "source": [
    "kubectl get all --all-namespaces"
   ]
  },
  {
   "cell_type": "markdown",
   "metadata": {},
   "source": [
    "### Services"
   ]
  },
  {
   "cell_type": "code",
   "execution_count": null,
   "metadata": {},
   "outputs": [],
   "source": [
    "cat 1-service.yaml"
   ]
  },
  {
   "cell_type": "code",
   "execution_count": null,
   "metadata": {},
   "outputs": [],
   "source": [
    "kubectl apply -f 1-service.yaml"
   ]
  },
  {
   "cell_type": "markdown",
   "metadata": {},
   "source": [
    "### Pods"
   ]
  },
  {
   "cell_type": "code",
   "execution_count": null,
   "metadata": {},
   "outputs": [],
   "source": [
    "cat 2-pod.yaml"
   ]
  },
  {
   "cell_type": "code",
   "execution_count": null,
   "metadata": {},
   "outputs": [],
   "source": [
    "kubectl apply -f 2-pod.yaml"
   ]
  },
  {
   "cell_type": "code",
   "execution_count": null,
   "metadata": {},
   "outputs": [],
   "source": [
    "kubectl logs dotnetapp-pod"
   ]
  },
  {
   "cell_type": "code",
   "execution_count": null,
   "metadata": {},
   "outputs": [],
   "source": [
    "kubectl get pod dotnetapp-pod -w"
   ]
  },
  {
   "cell_type": "markdown",
   "metadata": {},
   "source": [
    "**URLs**\n",
    "\n",
    "http://localhost:8080/stop"
   ]
  },
  {
   "cell_type": "code",
   "execution_count": null,
   "metadata": {},
   "outputs": [],
   "source": [
    "kubectl delete pod dotnetapp-pod"
   ]
  },
  {
   "cell_type": "markdown",
   "metadata": {},
   "source": [
    "### ReplicaSet"
   ]
  },
  {
   "cell_type": "code",
   "execution_count": null,
   "metadata": {},
   "outputs": [],
   "source": [
    "cat 3-replicaset.yaml"
   ]
  },
  {
   "cell_type": "code",
   "execution_count": null,
   "metadata": {},
   "outputs": [],
   "source": [
    "kubectl apply -f 3-replicaset.yaml"
   ]
  },
  {
   "cell_type": "code",
   "execution_count": null,
   "metadata": {},
   "outputs": [],
   "source": [
    "kubectl get all"
   ]
  },
  {
   "cell_type": "code",
   "execution_count": null,
   "metadata": {},
   "outputs": [],
   "source": [
    "kubectl scale --replicas=5 replicaset dotnetapp-rep"
   ]
  },
  {
   "cell_type": "code",
   "execution_count": null,
   "metadata": {},
   "outputs": [],
   "source": [
    "kubectl get pod -w"
   ]
  },
  {
   "cell_type": "markdown",
   "metadata": {},
   "source": [
    "**URLs**\n",
    "\n",
    "http://localhost:8080/stop\n",
    "\n",
    "http://localhost:8080/"
   ]
  },
  {
   "cell_type": "code",
   "execution_count": null,
   "metadata": {},
   "outputs": [],
   "source": [
    "kubectl delete replicaset dotnetapp-rep"
   ]
  },
  {
   "cell_type": "markdown",
   "metadata": {},
   "source": [
    "### Deployments"
   ]
  },
  {
   "cell_type": "code",
   "execution_count": null,
   "metadata": {},
   "outputs": [],
   "source": [
    "cat 4-deployment.yaml"
   ]
  },
  {
   "cell_type": "code",
   "execution_count": null,
   "metadata": {},
   "outputs": [],
   "source": [
    "kubectl apply -f 4-deployment.yaml --record"
   ]
  },
  {
   "cell_type": "code",
   "execution_count": null,
   "metadata": {},
   "outputs": [],
   "source": [
    "kubectl get all"
   ]
  },
  {
   "cell_type": "code",
   "execution_count": null,
   "metadata": {},
   "outputs": [],
   "source": [
    "kubectl rollout history deployment dotnetapp-dep"
   ]
  },
  {
   "cell_type": "code",
   "execution_count": null,
   "metadata": {},
   "outputs": [],
   "source": [
    "cat 5-deployment.yaml"
   ]
  },
  {
   "cell_type": "code",
   "execution_count": null,
   "metadata": {},
   "outputs": [],
   "source": [
    "kubectl apply -f 5-deployment.yaml --record"
   ]
  },
  {
   "cell_type": "markdown",
   "metadata": {},
   "source": [
    "**URLs**\n",
    "\n",
    "http://localhost:8080/"
   ]
  },
  {
   "cell_type": "code",
   "execution_count": null,
   "metadata": {},
   "outputs": [],
   "source": [
    "kubectl rollout undo deployment dotnetapp-dep"
   ]
  },
  {
   "cell_type": "markdown",
   "metadata": {},
   "source": [
    "**URLs**\n",
    "\n",
    "http://localhost:8080/"
   ]
  },
  {
   "cell_type": "code",
   "execution_count": null,
   "metadata": {},
   "outputs": [],
   "source": [
    "kubectl rollout history deployment dotnetapp-dep"
   ]
  },
  {
   "cell_type": "code",
   "execution_count": null,
   "metadata": {},
   "outputs": [],
   "source": [
    "kubectl delete deployment dotnetapp-dep"
   ]
  }
 ],
 "metadata": {
  "kernelspec": {
   "display_name": "Z shell",
   "language": "zsh",
   "name": "zsh"
  },
  "language_info": {
   "codemirror_mode": "shell",
   "file_extension": ".zsh",
   "mimetype": "text/x-zsh",
   "name": "zsh",
   "pygments_lexer": "shell",
   "version": "5.7.1"
  }
 },
 "nbformat": 4,
 "nbformat_minor": 4
}
