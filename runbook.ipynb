{
 "cells": [
  {
   "cell_type": "markdown",
   "metadata": {},
   "source": [
    "# Kubernetes Demo\n",
    "\n",
    "## Prerequisites\n",
    "\n",
    "* .NET Core SDK 3.1\n",
    "* Docker\n",
    "* Kubernetes\n",
    "\n",
    "## Web App Demo\n",
    "\n",
    "### No Container"
   ]
  },
  {
   "cell_type": "code",
   "execution_count": null,
   "metadata": {},
   "outputs": [],
   "source": [
    "dotnet run --project dotnet-app"
   ]
  },
  {
   "cell_type": "markdown",
   "metadata": {},
   "source": [
    "**URLs**\n",
    "\n",
    "http://localhost:5000\n",
    "\n",
    "http://localhost:5000/stop\n",
    "\n",
    "### Docker"
   ]
  },
  {
   "cell_type": "code",
   "execution_count": null,
   "metadata": {},
   "outputs": [],
   "source": [
    "rm -r dotnet-app/bin\n",
    "rm -r dotnet-app/obj"
   ]
  },
  {
   "cell_type": "code",
   "execution_count": null,
   "metadata": {},
   "outputs": [],
   "source": [
    "docker build --pull -t fjb4/dotnetapp ."
   ]
  },
  {
   "cell_type": "code",
   "execution_count": null,
   "metadata": {},
   "outputs": [],
   "source": [
    "docker run --rm -it -p 8000:80 fjb4/dotnetapp"
   ]
  },
  {
   "cell_type": "markdown",
   "metadata": {},
   "source": [
    "**URLs**\n",
    "\n",
    "http://localhost:8000\n",
    "\n",
    "http://localhost:8000/stop"
   ]
  },
  {
   "cell_type": "markdown",
   "metadata": {},
   "source": [
    "## Intro to Kubernetes\n",
    "\n",
    "### kubectl"
   ]
  },
  {
   "cell_type": "code",
   "execution_count": null,
   "metadata": {},
   "outputs": [],
   "source": [
    "kubectl config get-contexts"
   ]
  },
  {
   "cell_type": "code",
   "execution_count": null,
   "metadata": {},
   "outputs": [],
   "source": [
    "kubectl config set-context docker-desktop"
   ]
  },
  {
   "cell_type": "code",
   "execution_count": null,
   "metadata": {},
   "outputs": [],
   "source": [
    "kubectl cluster-info"
   ]
  },
  {
   "cell_type": "code",
   "execution_count": null,
   "metadata": {},
   "outputs": [],
   "source": [
    "kubectl get node -o wide"
   ]
  },
  {
   "cell_type": "code",
   "execution_count": null,
   "metadata": {},
   "outputs": [],
   "source": [
    "kubectl get all --all-namespaces"
   ]
  },
  {
   "cell_type": "markdown",
   "metadata": {},
   "source": [
    "### Services"
   ]
  },
  {
   "cell_type": "code",
   "execution_count": null,
   "metadata": {},
   "outputs": [],
   "source": [
    "cat 1-service.yaml"
   ]
  },
  {
   "cell_type": "code",
   "execution_count": null,
   "metadata": {},
   "outputs": [],
   "source": [
    "kubectl apply -f 1-service.yaml"
   ]
  },
  {
   "cell_type": "markdown",
   "metadata": {},
   "source": [
    "### Pods"
   ]
  },
  {
   "cell_type": "code",
   "execution_count": null,
   "metadata": {},
   "outputs": [],
   "source": [
    "cat 2-pod.yaml"
   ]
  },
  {
   "cell_type": "code",
   "execution_count": null,
   "metadata": {},
   "outputs": [],
   "source": [
    "kubectl apply -f 2-pod.yaml"
   ]
  },
  {
   "cell_type": "code",
   "execution_count": null,
   "metadata": {},
   "outputs": [],
   "source": [
    "kubectl logs dotnetapp-pod"
   ]
  },
  {
   "cell_type": "code",
   "execution_count": null,
   "metadata": {},
   "outputs": [],
   "source": [
    "kubectl get pod dotnetapp-pod -w"
   ]
  },
  {
   "cell_type": "markdown",
   "metadata": {},
   "source": [
    "**URLs**\n",
    "\n",
    "http://localhost:8080/stop"
   ]
  },
  {
   "cell_type": "code",
   "execution_count": null,
   "metadata": {},
   "outputs": [],
   "source": [
    "kubectl delete pod dotnetapp-pod"
   ]
  },
  {
   "cell_type": "markdown",
   "metadata": {},
   "source": [
    "### ReplicaSet"
   ]
  },
  {
   "cell_type": "code",
   "execution_count": 42,
   "metadata": {},
   "outputs": [
    {
     "name": "stdout",
     "output_type": "stream",
     "text": [
      "apiVersion: apps/v1\n",
      "kind: ReplicaSet\n",
      "metadata:\n",
      "  name: dotnetapp-rep\n",
      "  labels:\n",
      "    app: dotnetapp\n",
      "spec:\n",
      "  replicas: 3\n",
      "  selector:\n",
      "    matchLabels:\n",
      "      app: dotnetapp\n",
      "  template:\n",
      "    metadata:\n",
      "      labels:\n",
      "        app: dotnetapp\n",
      "    spec:\n",
      "      containers:\n",
      "      - image: fjb4/dotnetapp\n",
      "        name: dotnetapp-container\n",
      "        imagePullPolicy: Always\n",
      "        ports:\n",
      "          - containerPort: 80\n",
      "        env:\n",
      "          - name: POD_NAME\n",
      "            valueFrom:\n",
      "              fieldRef:\n",
      "                fieldPath: metadata.name\n",
      "          - name: POD_IP\n",
      "            valueFrom:\n",
      "              fieldRef:\n",
      "                fieldPath: status.podIP\n"
     ]
    }
   ],
   "source": [
    "cat 3-replicaset.yaml"
   ]
  },
  {
   "cell_type": "code",
   "execution_count": 43,
   "metadata": {},
   "outputs": [
    {
     "name": "stdout",
     "output_type": "stream",
     "text": [
      "replicaset.apps/dotnetapp-rep created\n"
     ]
    }
   ],
   "source": [
    "kubectl apply -f 3-replicaset.yaml"
   ]
  },
  {
   "cell_type": "code",
   "execution_count": 44,
   "metadata": {},
   "outputs": [
    {
     "name": "stdout",
     "output_type": "stream",
     "text": [
      "NAME                      READY   STATUS              RESTARTS   AGE\n",
      "pod/dotnetapp-rep-85jzb   0/1     ContainerCreating   0          1s\n",
      "pod/dotnetapp-rep-s4h4k   0/1     ContainerCreating   0          1s\n",
      "pod/dotnetapp-rep-zrjk9   0/1     ContainerCreating   0          1s\n",
      "\n",
      "NAME                    TYPE           CLUSTER-IP      EXTERNAL-IP   PORT(S)          AGE\n",
      "service/dotnetapp-svc   LoadBalancer   10.106.174.26   localhost     8080:30989/TCP   143m\n",
      "service/kubernetes      ClusterIP      10.96.0.1       <none>        443/TCP          19h\n",
      "\n",
      "NAME                            DESIRED   CURRENT   READY   AGE\n",
      "replicaset.apps/dotnetapp-rep   3         3         0       1s\n"
     ]
    }
   ],
   "source": [
    "kubectl get all"
   ]
  },
  {
   "cell_type": "code",
   "execution_count": 45,
   "metadata": {},
   "outputs": [
    {
     "name": "stdout",
     "output_type": "stream",
     "text": [
      "replicaset.extensions/dotnetapp-rep scaled\n"
     ]
    }
   ],
   "source": [
    "kubectl scale --replicas=5 replicaset dotnetapp-rep"
   ]
  },
  {
   "cell_type": "code",
   "execution_count": 46,
   "metadata": {},
   "outputs": [
    {
     "name": "stdout",
     "output_type": "stream",
     "text": [
      "NAME                  READY   STATUS    RESTARTS   AGE\n",
      "dotnetapp-rep-2dcrf   1/1     Running   0          8s\n",
      "dotnetapp-rep-85jzb   1/1     Running   0          13s\n",
      "dotnetapp-rep-f9m22   1/1     Running   0          8s\n",
      "dotnetapp-rep-s4h4k   1/1     Running   0          13s\n",
      "dotnetapp-rep-zrjk9   1/1     Running   0          13s\n",
      "dotnetapp-rep-f9m22   0/1     Completed   0          12s\n",
      "dotnetapp-rep-f9m22   1/1     Running     1          13s\n",
      " [1m\u001b[7m%\u001b[27m\u001b[1m\u001b[0m                                                                               \r"
     ]
    }
   ],
   "source": [
    "kubectl get pod -w"
   ]
  },
  {
   "cell_type": "markdown",
   "metadata": {},
   "source": [
    "**URLs**\n",
    "\n",
    "http://localhost:8080/stop\n",
    "\n",
    "http://localhost:8080/"
   ]
  },
  {
   "cell_type": "code",
   "execution_count": 48,
   "metadata": {},
   "outputs": [
    {
     "name": "stdout",
     "output_type": "stream",
     "text": [
      "replicaset.extensions \"dotnetapp-rep\" deleted\n"
     ]
    }
   ],
   "source": [
    "kubectl delete replicaset dotnetapp-rep"
   ]
  },
  {
   "cell_type": "markdown",
   "metadata": {},
   "source": [
    "### Deployments"
   ]
  },
  {
   "cell_type": "code",
   "execution_count": null,
   "metadata": {},
   "outputs": [],
   "source": [
    "cat 4-deployment.yaml"
   ]
  },
  {
   "cell_type": "code",
   "execution_count": 49,
   "metadata": {},
   "outputs": [
    {
     "name": "stdout",
     "output_type": "stream",
     "text": [
      "deployment.apps/dotnetapp-dep created\n"
     ]
    }
   ],
   "source": [
    "kubectl apply -f 4-deployment.yaml --record"
   ]
  },
  {
   "cell_type": "code",
   "execution_count": 50,
   "metadata": {},
   "outputs": [
    {
     "name": "stdout",
     "output_type": "stream",
     "text": [
      "NAME                                 READY   STATUS              RESTARTS   AGE\n",
      "pod/dotnetapp-dep-6d78ccb4df-qnsml   0/1     ContainerCreating   0          3s\n",
      "pod/dotnetapp-dep-6d78ccb4df-w9bk6   0/1     ContainerCreating   0          3s\n",
      "pod/dotnetapp-dep-6d78ccb4df-wr78j   0/1     ContainerCreating   0          3s\n",
      "\n",
      "NAME                    TYPE           CLUSTER-IP      EXTERNAL-IP   PORT(S)          AGE\n",
      "service/dotnetapp-svc   LoadBalancer   10.106.174.26   localhost     8080:30989/TCP   146m\n",
      "service/kubernetes      ClusterIP      10.96.0.1       <none>        443/TCP          19h\n",
      "\n",
      "NAME                            READY   UP-TO-DATE   AVAILABLE   AGE\n",
      "deployment.apps/dotnetapp-dep   0/3     3            0           3s\n",
      "\n",
      "NAME                                       DESIRED   CURRENT   READY   AGE\n",
      "replicaset.apps/dotnetapp-dep-6d78ccb4df   3         3         0       3s\n"
     ]
    }
   ],
   "source": [
    "kubectl get all"
   ]
  },
  {
   "cell_type": "code",
   "execution_count": 56,
   "metadata": {},
   "outputs": [
    {
     "name": "stdout",
     "output_type": "stream",
     "text": [
      "deployment.extensions/dotnetapp-dep \n",
      "REVISION  CHANGE-CAUSE\n",
      "2         kubectl apply --filename=5-deployment.yaml --record=true\n",
      "3         kubectl apply --filename=4-deployment.yaml --record=true\n",
      "\n"
     ]
    }
   ],
   "source": [
    "kubectl rollout history deployment dotnetapp-dep"
   ]
  },
  {
   "cell_type": "code",
   "execution_count": 52,
   "metadata": {},
   "outputs": [
    {
     "name": "stdout",
     "output_type": "stream",
     "text": [
      "apiVersion: apps/v1\n",
      "kind: Deployment\n",
      "metadata:\n",
      "  name: dotnetapp-dep\n",
      "  labels:\n",
      "    app: dotnetapp\n",
      "spec:\n",
      "  replicas: 3\n",
      "  selector:\n",
      "    matchLabels:\n",
      "      app: dotnetapp\n",
      "  template:\n",
      "    metadata:\n",
      "      labels:\n",
      "        app: dotnetapp\n",
      "    spec:\n",
      "      containers:\n",
      "      - image: nginx\n",
      "        name: dotnetapp-container\n",
      "        imagePullPolicy: Always\n",
      "        ports:\n",
      "          - containerPort: 80\n"
     ]
    }
   ],
   "source": [
    "cat 5-deployment.yaml"
   ]
  },
  {
   "cell_type": "code",
   "execution_count": 53,
   "metadata": {},
   "outputs": [
    {
     "name": "stdout",
     "output_type": "stream",
     "text": [
      "deployment.apps/dotnetapp-dep configured\n"
     ]
    }
   ],
   "source": [
    "kubectl apply -f 5-deployment.yaml --record"
   ]
  },
  {
   "cell_type": "markdown",
   "metadata": {},
   "source": [
    "**URLs**\n",
    "\n",
    "http://localhost:8080/"
   ]
  },
  {
   "cell_type": "code",
   "execution_count": 62,
   "metadata": {},
   "outputs": [
    {
     "name": "stdout",
     "output_type": "stream",
     "text": [
      "deployment.extensions/dotnetapp-dep rolled back\n"
     ]
    }
   ],
   "source": [
    "kubectl rollout undo deployment dotnetapp-dep"
   ]
  },
  {
   "cell_type": "markdown",
   "metadata": {},
   "source": [
    "**URLs**\n",
    "\n",
    "http://localhost:8080/"
   ]
  },
  {
   "cell_type": "code",
   "execution_count": 64,
   "metadata": {},
   "outputs": [
    {
     "name": "stdout",
     "output_type": "stream",
     "text": [
      "Error from server (NotFound): deployments.extensions \"dotnetapp-dep\" not found\n"
     ]
    }
   ],
   "source": [
    "kubectl rollout history deployment dotnetapp-dep"
   ]
  },
  {
   "cell_type": "code",
   "execution_count": 63,
   "metadata": {},
   "outputs": [
    {
     "name": "stdout",
     "output_type": "stream",
     "text": [
      "deployment.extensions \"dotnetapp-dep\" deleted\n"
     ]
    }
   ],
   "source": [
    "kubectl delete deployment dotnetapp-dep"
   ]
  }
 ],
 "metadata": {
  "kernelspec": {
   "display_name": "Z shell",
   "language": "zsh",
   "name": "zsh"
  },
  "language_info": {
   "codemirror_mode": "shell",
   "file_extension": ".zsh",
   "mimetype": "text/x-zsh",
   "name": "zsh",
   "pygments_lexer": "shell",
   "version": "5.7.1"
  }
 },
 "nbformat": 4,
 "nbformat_minor": 4
}
